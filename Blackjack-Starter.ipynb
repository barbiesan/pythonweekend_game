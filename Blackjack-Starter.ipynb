{
 "cells": [
  {
   "cell_type": "markdown",
   "metadata": {},
   "source": [
    "## Python Blackjack\n",
    "For this project you will make a Blackjack game using Python. Click <a href=\"http://www.hitorstand.net/strategy.php\">here</a> to familiarize yourself with the the rules of the game. You won't be implementing every rule \"down to the letter\" with the game, but we will doing a simpler version of the game. This assignment will be given to further test your knowledge on object-oriented programming concepts.\n",
    "\n",
    "### Rules:\n",
    "\n",
    "`1. ` The game will have two players: the Dealer and the Player. The game will start off with a deck of 52 cards. The 52 cards will consist of 4 different suits: Clubs, Diamonds, Hearts and Spades. For each suit, there will be cards numbered 1 through 13. <br>\n",
    "**Note: No wildcards will be used in the program**\n",
    "\n",
    "`2. ` When the game begins, the dealer will shuffle the deck of cards, making them randomized. After the dealer shuffles, it will deal the player 2 cards and will deal itself 2 cards from. The Player should be able to see both of their own cards, but should only be able to see one of the Dealer's cards.\n",
    " \n",
    "`3. ` The objective of the game is for the Player to count their cards after they're dealt. If they're not satisfied with the number, they have the ability to 'Hit'. A hit allows the dealer to deal the Player one additional card. The Player can hit as many times as they'd like as long as they don't 'Bust'. A bust is when the Player is dealt cards that total more than 21.\n",
    "\n",
    "`4. ` If the dealer deals the Player cards equal to 21 on the **first** deal, the Player wins. This is referred to as Blackjack. Blackjack is **NOT** the same as getting cards that equal up to 21 after the first deal. Blackjack can only be attained on the first deal.\n",
    "\n",
    "`5. ` The Player will never see the Dealer's hand until the Player chooses to 'stand'. A Stand is when the player tells the dealer to not deal it anymore cards. Once the player chooses to Stand, the Player and the Dealer will compare their hands. Whoever has the higher number wins. Keep in mind that the Dealer can also bust. "
   ]
  },
  {
   "cell_type": "code",
   "execution_count": 2,
   "metadata": {},
   "outputs": [
    {
     "ename": "IndentationError",
     "evalue": "expected an indented block (1470101149.py, line 24)",
     "output_type": "error",
     "traceback": [
      "\u001b[0;36m  File \u001b[0;32m\"/var/folders/z4/21ffl2fs5gq82czrdyq6m1zh0000gn/T/ipykernel_24808/1470101149.py\"\u001b[0;36m, line \u001b[0;32m24\u001b[0m\n\u001b[0;31m    self.deck.append[(suit,nums)]\u001b[0m\n\u001b[0m    ^\u001b[0m\n\u001b[0;31mIndentationError\u001b[0m\u001b[0;31m:\u001b[0m expected an indented block\n"
     ]
    }
   ],
   "source": [
    "import random\n",
    "\n",
    "\n",
    "suits = ('diamonds', 'hearts', 'clubs', 'spades')\n",
    "nums = (2,3,4,5,6,7,8,9,10,'Jack','Queen''King','Ace')\n",
    "deck = []\n",
    "\n",
    "game_on = True\n",
    "\n",
    "class Card:\n",
    "    def __init__(self,sutis,nums):\n",
    "        self.suits = cards\n",
    "        self.nums = nums\n",
    "        \n",
    "    def __str__(self):\n",
    "        return self.nums + ' of ' + self.cards    \n",
    "    \n",
    "class Deck:\n",
    "    \n",
    "    def __init__(self):\n",
    "        self.deck = []\n",
    "        for suit in suits:\n",
    "            for num in nums:\n",
    "            self.deck.append[(suit,nums)]\n",
    "            print(deck)\n",
    "        \n",
    "    def shuffle(self):\n",
    "           random.shuffle(self.deck)\n",
    "            \n",
    "\n",
    "    def deal_cards(self):\n",
    "        one_card = self.deck.pop()\n",
    "        return one_card\n",
    "        \n",
    "    \n",
    "class Cash:\n",
    "     \n",
    "    def __init__(self, player, cash=100):\n",
    "        self.dealer = Dealer()\n",
    "        self.player = Player(player, cash)\n",
    "        self.deck = Deck()\n",
    "        while game_on = True\n",
    "    \n",
    "    \n",
    "def main():\n",
    "    player_name = input(\"Do you want to start the game\")\n",
    "    table = Table(player_name)\n",
    "    game_on = 'y'\n",
    "    while player_continue in play:\n",
    "        table.play()\n",
    "        game_on = input(\"You're out of money, Would you like to continue? 'y' or 'n'\")\n",
    "        if game_on = 'n'\n",
    "        break\n",
    "\n",
    "\n",
    "  \n",
    "    \n",
    "                \n",
    "                \n",
    "# Execute the function\n",
    "run_game()"
   ]
  },
  {
   "cell_type": "code",
   "execution_count": null,
   "metadata": {},
   "outputs": [],
   "source": []
  },
  {
   "cell_type": "code",
   "execution_count": null,
   "metadata": {},
   "outputs": [],
   "source": []
  }
 ],
 "metadata": {
  "kernelspec": {
   "display_name": "Python 3 (ipykernel)",
   "language": "python",
   "name": "python3"
  },
  "language_info": {
   "codemirror_mode": {
    "name": "ipython",
    "version": 3
   },
   "file_extension": ".py",
   "mimetype": "text/x-python",
   "name": "python",
   "nbconvert_exporter": "python",
   "pygments_lexer": "ipython3",
   "version": "3.9.7"
  }
 },
 "nbformat": 4,
 "nbformat_minor": 2
}
